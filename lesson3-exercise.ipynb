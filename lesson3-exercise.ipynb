{
 "cells": [
  {
   "cell_type": "code",
   "execution_count": 44,
   "metadata": {
    "scrolled": true
   },
   "outputs": [
    {
     "name": "stdout",
     "output_type": "stream",
     "text": [
      "{'Mouse_genes': {'FuzzynessGene': 'CCCCCCA', 'BeadyLittleEyesGene': 'ATAGCGC'}, 'Rat_genes': {'BiggerThanMouseGene': 'GGACAATT', 'FuzzynessGene': 'CCCTCCA'}, 'Human_genes': {'TallnessGene': 'AATAGCAG', 'SmartnessGene': 'TGACGGA'}}\n",
      "\n",
      "the names of the human gene is  dict_keys(['TallnessGene', 'SmartnessGene'])\n",
      "\n",
      "dict_keys(['Mouse_genes', 'Rat_genes', 'Human_genes'])\n",
      "dict_values([{'FuzzynessGene': 'CCCCCCA', 'BeadyLittleEyesGene': 'ATAGCGC'}, {'BiggerThanMouseGene': 'GGACAATT', 'FuzzynessGene': 'CCCTCCA'}, {'TallnessGene': 'AATAGCAG', 'SmartnessGene': 'TGACGGA'}])\n",
      "\n",
      "Mouse_genes {'FuzzynessGene': 'CCCCCCA', 'BeadyLittleEyesGene': 'ATAGCGC'}\n",
      "{'FuzzynessGene': 'CCCCCCA', 'BeadyLittleEyesGene': 'ATAGCGC'}\n",
      "Rat_genes {'BiggerThanMouseGene': 'GGACAATT', 'FuzzynessGene': 'CCCTCCA'}\n",
      "{'BiggerThanMouseGene': 'GGACAATT', 'FuzzynessGene': 'CCCTCCA'}\n",
      "Human_genes {'TallnessGene': 'AATAGCAG', 'SmartnessGene': 'TGACGGA'}\n",
      "{'TallnessGene': 'AATAGCAG', 'SmartnessGene': 'TGACGGA'}\n",
      "\n",
      "CCCCCCA\n",
      "CCCTCCA\n",
      "\n",
      "AATAGCAG\n",
      "T\n"
     ]
    }
   ],
   "source": [
    "Human_genes = {'TallnessGene': 'AATAGCAG', 'SmartnessGene': 'TGACGGA'}\n",
    "Mouse_genes = {'FuzzynessGene': 'CCCCCCA', 'BeadyLittleEyesGene': 'ATAGCGC'}\n",
    "Rat_genes = {'FuzzynessGene': 'CCCTCCA', 'BiggerThanMouseGene': 'GGACAATT'}\n",
    "               \n",
    "Dict['Human_genes'] = {'TallnessGene': 'AATAGCAG', 'SmartnessGene': 'TGACGGA'}\n",
    "Dict['Mouse_genes'] = {'FuzzynessGene': 'CCCCCCA', 'BeadyLittleEyesGene': 'ATAGCGC'}\n",
    "Dict['Rat_genes'] = {'FuzzynessGene': 'CCCTCCA', 'BiggerThanMouseGene': 'GGACAATT'}\n",
    "print (Dict)\n",
    "print ()\n",
    "print ('the names of the human gene is ', Dict['Human_genes'].keys())\n",
    "\n",
    "print ()\n",
    "\n",
    "print (Dict.keys())\n",
    "print (Dict.values())\n",
    "print ()\n",
    "\n",
    "for key, value in Dict.items():\n",
    "    print (key, value)\n",
    "    print (Dict[key])\n",
    "\n",
    "print ()\n",
    "print (Dict['Mouse_genes']['FuzzynessGene'])\n",
    "print (Dict['Rat_genes']['FuzzynessGene'])\n",
    "print()\n",
    "\n",
    "print (Dict['Human_genes']['TallnessGene'])\n",
    "print (Dict['Human_genes']['TallnessGene'][2])    \n",
    "#    if key == 'FuzznessGene':\n",
    "#       print \n",
    "    \n",
    "    \n",
    "#for k, value innameinfo.items():"
   ]
  },
  {
   "cell_type": "code",
   "execution_count": 51,
   "metadata": {},
   "outputs": [
    {
     "name": "stdout",
     "output_type": "stream",
     "text": [
      "[[2, 3, 5, 5], [2, 2, 4, 5], [3, 3, 4, 6]]\n",
      "[[2, 3, 5, 5], [2, 2, 4, 5], [3, 3, 4, 6]]\n",
      "[[4, 3, 5, 5], [2, 2, 4, 5], [3, 3, 4, 6]]\n",
      "[[4, 3, 5, 5], [2, 2, 4, 5], [3, 3, 4, 6]]\n"
     ]
    }
   ],
   "source": [
    "run1 = [2,3,5,5]\n",
    "run2 = [2,2,4,5]\n",
    "run3 = [3,3,4,6]\n",
    "listOfRuns = [run1,run2,run3]\n",
    "print (listOfRuns)\n",
    "run1 = [4,3,5,5]\n",
    "print (listOfRuns)\n",
    "\n",
    "run1_1 = run1.copy()\n",
    "run2_1 = run2.copy()\n",
    "run3_1 = run3.copy()\n",
    "listOfRuns = [run1_1,run2_1,run3_1]\n",
    "print (listOfRuns)\n",
    "run1_1 = [6,3,5,5]\n",
    "print (listOfRuns)"
   ]
  },
  {
   "cell_type": "code",
   "execution_count": 76,
   "metadata": {},
   "outputs": [
    {
     "name": "stdout",
     "output_type": "stream",
     "text": [
      "[[], [], []]\n",
      "<class 'list'>\n",
      "[['i belong first!'], ['i belong first!'], ['i belong first!']]\n",
      "[[], [], []]\n",
      "[['i belong first!'], [], []]\n",
      "<class 'list'>\n"
     ]
    }
   ],
   "source": [
    "list_1 = [[]]*3\n",
    "print (list_1)\n",
    "print (type(list_1))\n",
    "list_1[0].append('i belong first!')\n",
    "print (list_1)\n",
    "list_2 = [[],[],[]]\n",
    "print(list_2)\n",
    "list_2[0].append('i belong first!')\n",
    "print (list_2)\n",
    "print (type (list_2))"
   ]
  },
  {
   "cell_type": "code",
   "execution_count": 107,
   "metadata": {},
   "outputs": [
    {
     "name": "stdout",
     "output_type": "stream",
     "text": [
      "{'Mouse_genes': {'FuzzynessGene': 'CCCCCCA', 'BeadyLittleEyesGene': 'ATAGCGC'}, 'Rat_genes': {'BiggerThanMouseGene': 'GGACAATT', 'FuzzynessGene': 'CCCTCCA'}, 'Human_genes': {'TallnessGene': 'AATAGCAG', 'SmartnessGene': 'TGACGGA'}}\n",
      "\n",
      "Mouse_genes :\n",
      "{'FuzzynessGene': 'CCCCCCA', 'BeadyLittleEyesGene': 'ATAGCGC'}\n",
      "\n",
      "\n",
      "CCCCCCA\n",
      "ACCCCCC\n",
      "ACCCCCC\n",
      "\n",
      "ATAGCGC\n",
      "CGCGATA\n",
      "CGCGATA\n",
      "Rat_genes :\n",
      "{'BiggerThanMouseGene': 'GGACAATT', 'FuzzynessGene': 'CCCTCCA'}\n",
      "\n",
      "\n",
      "GGACAATT\n",
      "TTAACAGG\n",
      "TTAACAGG\n",
      "\n",
      "CCCTCCA\n",
      "ACCTCCC\n",
      "ACCTCCC\n",
      "Human_genes :\n",
      "{'TallnessGene': 'AATAGCAG', 'SmartnessGene': 'TGACGGA'}\n",
      "\n",
      "\n",
      "AATAGCAG\n",
      "GACGATAA\n",
      "GACGATAA\n",
      "\n",
      "TGACGGA\n",
      "AGGCAGT\n",
      "AGGCAGT\n"
     ]
    }
   ],
   "source": [
    "Dict['Human_genes'] = {'TallnessGene': 'AATAGCAG', 'SmartnessGene': 'TGACGGA'}\n",
    "Dict['Mouse_genes'] = {'FuzzynessGene': 'CCCCCCA', 'BeadyLittleEyesGene': 'ATAGCGC'}\n",
    "Dict['Rat_genes'] = {'FuzzynessGene': 'CCCTCCA', 'BiggerThanMouseGene': 'GGACAATT'}\n",
    "print (Dict)\n",
    "\n",
    "print ()\n",
    "for key, value in Dict.items():\n",
    "    print (key,':' )\n",
    "    print (Dict[key])\n",
    "    print ()\n",
    "    for k, v in Dict[key].items():\n",
    "        print ()\n",
    "        print (Dict[key][k])              \n",
    "        reverse = list(Dict[key][k])\n",
    "        reverse.reverse()\n",
    "        reverse2 = str(''.join(reverse))\n",
    "        print (reverse2)\n",
    "        \n",
    "        print (Dict[key][k][::-1])\n",
    "\n",
    "\n",
    "    "
   ]
  },
  {
   "cell_type": "code",
   "execution_count": null,
   "metadata": {
    "collapsed": true
   },
   "outputs": [],
   "source": []
  },
  {
   "cell_type": "code",
   "execution_count": null,
   "metadata": {
    "collapsed": true
   },
   "outputs": [],
   "source": []
  }
 ],
 "metadata": {
  "anaconda-cloud": {},
  "kernelspec": {
   "display_name": "Python 2",
   "language": "python",
   "name": "python2"
  },
  "language_info": {
   "codemirror_mode": {
    "name": "ipython",
    "version": 2
   },
   "file_extension": ".py",
   "mimetype": "text/x-python",
   "name": "python",
   "nbconvert_exporter": "python",
   "pygments_lexer": "ipython2",
   "version": "2.7.13"
  }
 },
 "nbformat": 4,
 "nbformat_minor": 1
}
